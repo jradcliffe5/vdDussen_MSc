{
 "cells": [
  {
   "cell_type": "code",
   "execution_count": 2,
   "metadata": {
    "id": "SHPmITJMljwt"
   },
   "outputs": [],
   "source": [
    "# Plots for binary mass and period"
   ]
  },
  {
   "cell_type": "code",
   "execution_count": 3,
   "metadata": {
    "id": "w2vx7ZvsmJpt"
   },
   "outputs": [],
   "source": [
    "## stellar mass value: stm= 3.47e10 solar masses\n",
    "### assuming equal mass: mass of one SMBH:  3.47e10/2\n",
    "### Assume circular orbit\n"
   ]
  },
  {
   "cell_type": "code",
   "execution_count": 4,
   "metadata": {
    "id": "Q697xzYMmFz0"
   },
   "outputs": [],
   "source": [
    "import math\n",
    "import numpy as np"
   ]
  },
  {
   "cell_type": "code",
   "execution_count": 5,
   "metadata": {
    "colab": {
     "base_uri": "https://localhost:8080/"
    },
    "id": "yNkMOdX2mQ4g",
    "outputId": "0fe7d4aa-3b54-4fca-aee7-769d5318d98f"
   },
   "outputs": [
    {
     "name": "stdout",
     "output_type": "stream",
     "text": [
      "Found 0 values within the tolerance:\n"
     ]
    }
   ],
   "source": [
    "# the model to calculate detla_v:\n",
    "\n",
    "v2=-3.75e11 #km/year\n",
    "v1=21713976790.253414 #km/year\n",
    "#d_v=abs(v1-v2)\n",
    "\n",
    "G=1.327e11 #km^3 (solar mass)^-1 years^-2\n",
    "#from log10(log stellar mass/Msun) = 10.54, stellar mass (stm) aka m1+m2= 3.47 × 10^10  solar masses\n",
    "\n",
    "def smbh2_model(p, stm):\n",
    "\n",
    "    sin3=2/3 #estimate\n",
    "    numerator = (stm) * 2 * math.pi * G * sin3\n",
    "    denominator = p\n",
    "    cube_root = (numerator / denominator) ** (1/3)\n",
    "    delta_v = cube_root\n",
    "\n",
    "    return np.log(delta_v)\n",
    "\n",
    "# creating parameter ranges\n",
    "p_values = np.logspace(3, 8, 50)  # 50 values between 10^3 and 10^8\n",
    "stm_values = np.logspace(np.log10(3.47e8), np.log10(3.47e12), 50)  # 50 values between 3.47e8 and 3.47e10\n",
    "\n",
    "# Create a meshgrid to efficiently calculate delta_v for all combinations\n",
    "P, STM = np.meshgrid(p_values, stm_values)\n",
    "\n",
    "# Calculate delta_v for all combinations\n",
    "delta_v_values = smbh2_model(P, STM)\n",
    "\n",
    "# Find values in the vicinity of 353e9 (+-1e2)\n",
    "target_delta_v = abs(v1-v2)\n",
    "tolerance = 1e2\n",
    "\n",
    "# Use numpy's where function to find indices of values within the tolerance\n",
    "indices = np.where(np.abs(delta_v_values - target_delta_v) <= tolerance)\n",
    "\n",
    "# Extract corresponding p and stm values\n",
    "p_within_tolerance = P[indices]\n",
    "stm_within_tolerance = STM[indices]\n",
    "delta_v_within_tolerance = delta_v_values[indices]\n",
    "\n",
    "# Print or store the results\n",
    "print(\"Found {} values within the tolerance:\".format(len(p_within_tolerance)))\n",
    "\n",
    "for i in range(len(p_within_tolerance)):\n",
    "    print(\"p:\", p_within_tolerance[i], \"stm:\", stm_within_tolerance[i], \"delta_v:\", delta_v_within_tolerance[i])\n",
    "\n",
    "#convert values to lists for plotting\n",
    "p_list = p_within_tolerance.tolist()\n",
    "stm_list = stm_within_tolerance.tolist()\n",
    "delta_v_list = delta_v_within_tolerance.tolist()"
   ]
  },
  {
   "cell_type": "code",
   "execution_count": 4,
   "metadata": {
    "colab": {
     "base_uri": "https://localhost:8080/"
    },
    "id": "YMcMHPz3mVXN",
    "outputId": "696b5dca-ac33-4804-f7ab-613e44bb1738"
   },
   "outputs": [
    {
     "data": {
      "text/plain": [
       "[]"
      ]
     },
     "execution_count": 4,
     "metadata": {},
     "output_type": "execute_result"
    }
   ],
   "source": [
    "#test the lists:\n",
    "p_list"
   ]
  },
  {
   "cell_type": "code",
   "execution_count": null,
   "metadata": {
    "id": "eaDNq5x6mcfR"
   },
   "outputs": [],
   "source": []
  }
 ],
 "metadata": {
  "colab": {
   "provenance": []
  },
  "kernelspec": {
   "display_name": "Python 3 (ipykernel)",
   "language": "python",
   "name": "python3"
  },
  "language_info": {
   "codemirror_mode": {
    "name": "ipython",
    "version": 3
   },
   "file_extension": ".py",
   "mimetype": "text/x-python",
   "name": "python",
   "nbconvert_exporter": "python",
   "pygments_lexer": "ipython3",
   "version": "3.13.1"
  }
 },
 "nbformat": 4,
 "nbformat_minor": 4
}
