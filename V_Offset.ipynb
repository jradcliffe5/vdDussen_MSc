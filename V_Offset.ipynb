{
 "cells": [
  {
   "cell_type": "raw",
   "id": "0b40127e-1a05-4a1a-9bb4-e2184ee4e089",
   "metadata": {},
   "source": [
    "#Coding maths:"
   ]
  },
  {
   "cell_type": "markdown",
   "id": "6c4880ef-1e95-40ce-bd64-d66138ce195d",
   "metadata": {},
   "source": [
    "**Find the Velocity offset**"
   ]
  },
  {
   "cell_type": "code",
   "execution_count": 1,
   "id": "c02f9111-fc72-4a22-9212-8fce6fa087ce",
   "metadata": {
    "tags": []
   },
   "outputs": [],
   "source": [
    "#abbreviations: NS=North Source, SS= South Source, wl_exp1= expected wavelength due to doppler shift for 5006 OIII baseline, wl_exp2=expected wl for 4958.911 OIII base\n",
    "#using redshift to calculate v_offset:\n",
    "#calculate the expected observed wavelength using redshift\n",
    "z=1.6095 \n",
    "\n",
    "oiii_1=5006.843 #baseline\n",
    "oiii_2= 4958.911 #baseline\n",
    "\n",
    "wl_exp1 = (1+z)*(oiii_1)\n",
    "#or\n",
    "wl_exp2 = (1+z)*(oiii_2)\n",
    "\n",
    "#actual wl_obs\n",
    "\n",
    "a1 = 12969.99877 #converted from pixels to wl- replace with actual value from gaussian when x-axis is in wavelength\n",
    "a2 = 13071.662   #converted from pixels to wl- replace with actual value from gaussian when x-axis is in wavelength\n",
    "b = 13013.6054 #converted from pixels to wl- replace with actual value from gaussian when x-axis is in wavelength\n",
    "\n",
    "#calc. difference in wl:\n",
    "#a1:\n",
    "delta_wla1= a1-wl_exp2\n",
    "\n",
    "#a2\n",
    "delta_wla2 = a2 - wl_exp1\n",
    "\n",
    "#velocity offset:\n",
    "c= 299792 #km/s\n",
    "def v_rad(x): \n",
    "    \n",
    "    wl_exp1 = (1+z)*(oiii_1)\n",
    "    #or\n",
    "    wl_exp2 = (1+z)*(oiii_2)\n",
    "    if x<13000:\n",
    "        delta= x-wl_exp2\n",
    "        v=c*(delta/wl_exp2)\n",
    "    else:\n",
    "        delta=x-wl_exp1\n",
    "        v=c*(delta/wl_exp1)\n",
    "        \n",
    "    \n",
    "    return v \n"
   ]
  },
  {
   "cell_type": "code",
   "execution_count": 2,
   "id": "28eed345-553a-4eed-95d0-a8504584a33b",
   "metadata": {
    "tags": []
   },
   "outputs": [
    {
     "data": {
      "text/plain": [
       "688.545687159228"
      ]
     },
     "execution_count": 2,
     "metadata": {},
     "output_type": "execute_result"
    }
   ],
   "source": [
    "NS=v_rad(a1)\n",
    "NS"
   ]
  },
  {
   "cell_type": "code",
   "execution_count": 3,
   "id": "0f372c6c-e8e7-4f39-8b17-52edd8d5558f",
   "metadata": {
    "tags": []
   },
   "outputs": [
    {
     "data": {
      "text/plain": [
       "144.67618434566512"
      ]
     },
     "execution_count": 3,
     "metadata": {},
     "output_type": "execute_result"
    }
   ],
   "source": [
    "\n",
    "v_rad(a2)"
   ]
  },
  {
   "cell_type": "code",
   "execution_count": 6,
   "id": "001cf707-1225-41ce-a99f-f29616c58746",
   "metadata": {
    "tags": []
   },
   "outputs": [
    {
     "data": {
      "text/plain": [
       "-1187.4653317495377"
      ]
     },
     "execution_count": 6,
     "metadata": {},
     "output_type": "execute_result"
    }
   ],
   "source": [
    "SS=v_rad(b)\n",
    "SS\n"
   ]
  },
  {
   "cell_type": "code",
   "execution_count": 5,
   "id": "fc486f47-4389-42bf-a3c3-24e755a03b08",
   "metadata": {},
   "outputs": [
    {
     "ename": "SyntaxError",
     "evalue": "invalid syntax (517943864.py, line 1)",
     "output_type": "error",
     "traceback": [
      "\u001b[0;36m  Cell \u001b[0;32mIn[5], line 1\u001b[0;36m\u001b[0m\n\u001b[0;31m    v_off=\u001b[0m\n\u001b[0m          ^\u001b[0m\n\u001b[0;31mSyntaxError\u001b[0m\u001b[0;31m:\u001b[0m invalid syntax\n"
     ]
    }
   ],
   "source": [
    "v_off=abs(SS-NS)"
   ]
  }
 ],
 "metadata": {
  "kernelspec": {
   "display_name": "Python 3 (ipykernel)",
   "language": "python",
   "name": "python3"
  },
  "language_info": {
   "codemirror_mode": {
    "name": "ipython",
    "version": 3
   },
   "file_extension": ".py",
   "mimetype": "text/x-python",
   "name": "python",
   "nbconvert_exporter": "python",
   "pygments_lexer": "ipython3",
   "version": "3.11.9"
  }
 },
 "nbformat": 4,
 "nbformat_minor": 5
}
