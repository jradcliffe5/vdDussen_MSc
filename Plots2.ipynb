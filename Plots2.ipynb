{
 "cells": [
  {
   "cell_type": "markdown",
   "id": "68112972-8eb9-4e7a-8a6d-367f081b34c2",
   "metadata": {},
   "source": [
    "# Plots for binary mass and period (2)"
   ]
  },
  {
   "cell_type": "code",
   "execution_count": 7,
   "id": "0aaa546e-bc06-44e6-83da-e74340b533bf",
   "metadata": {},
   "outputs": [
    {
     "name": "stdout",
     "output_type": "stream",
     "text": [
      "No values found within the tolerance.\n"
     ]
    }
   ],
   "source": [
    "import math\n",
    "import numpy as np\n",
    "\n",
    "G=1.3220617e26  # km^3 (solar mass)^-1 years^-2\n",
    "\n",
    "def smbh2_model(p, stm):\n",
    "    sin3 = 2/3  # estimate for sin(i)\n",
    "    numerator = (stm) * 2 * math.pi * G * sin3\n",
    "    denominator = p\n",
    "    cube_root = (numerator / denominator) ** (1/3)\n",
    "    delta_v = cube_root\n",
    "\n",
    "    return delta_v\n",
    "\n",
    "# Parameter ranges\n",
    "p_values = np.logspace(1, 8, 100)  # 50 values for p\n",
    "stm_values = np.logspace(np.log10(3.47e8), np.log10(3.47e13), 100)  # 50 values for stm (Adjusted range)\n",
    "\n",
    "target_delta_v = 353e12\n",
    "tolerance = 1e3  \n",
    "\n",
    "results = []  \n",
    "\n",
    "for i in p_values:  # Iterate through each p value\n",
    "    for m in stm_values:  # Iterate through each stm value\n",
    "        delta_v = smbh2_model(i, m)  # Calculate delta_v for the combination\n",
    "        if abs(delta_v - target_delta_v) <= tolerance:  # Check if within tolerance\n",
    "            results.append((p, stm, delta_v))  # Store the values\n",
    "\n",
    "if results:  # Check if any results were found\n",
    "    print(\"Found {} values within the tolerance:\".format(len(results)))\n",
    "    for p, stm, delta_v in results:\n",
    "        print(f\"p: {p}, stm: {stm}, delta_v: {delta_v}\")\n",
    "\n",
    "    # Convert to NumPy arrays for easier manipulation \n",
    "    results_array = np.array(results)\n",
    "    p_array = results_array[:, 0]\n",
    "    stm_array = results_array[:, 1]\n",
    "    delta_v_array = results_array[:, 2]\n",
    "\n",
    "    # Plotting \n",
    "    import matplotlib.pyplot as plt\n",
    "    plt.figure(figsize=(10, 8))\n",
    "    plt.scatter(p_array, stm_array, c=delta_v_array, cmap='viridis', norm=plt.Normalize(vmin=delta_v_array.min(), vmax=delta_v_array.max()))\n",
    "    cbar = plt.colorbar(label='Delta v (km/s)')\n",
    "    plt.xscale('log')\n",
    "    plt.yscale('log')\n",
    "    plt.xlabel('Period (years)')\n",
    "    plt.ylabel('Total Mass (Solar Masses)')\n",
    "    plt.title('Delta v vs. Period and Total Mass (Matching)')\n",
    "    plt.grid(True)\n",
    "    plt.tight_layout()\n",
    "    plt.show()\n",
    "\n",
    "else:\n",
    "    print(\"No values found within the tolerance.\")\n"
   ]
  },
  {
   "cell_type": "code",
   "execution_count": null,
   "id": "70a4562f-04c4-4288-a2da-a672e514b622",
   "metadata": {},
   "outputs": [],
   "source": []
  }
 ],
 "metadata": {
  "kernelspec": {
   "display_name": "ASTRO-PY3 (Python 3.10)",
   "language": "python",
   "name": "astro-py3.10"
  },
  "language_info": {
   "codemirror_mode": {
    "name": "ipython",
    "version": 3
   },
   "file_extension": ".py",
   "mimetype": "text/x-python",
   "name": "python",
   "nbconvert_exporter": "python",
   "pygments_lexer": "ipython3",
   "version": "3.10.4"
  }
 },
 "nbformat": 4,
 "nbformat_minor": 5
}
