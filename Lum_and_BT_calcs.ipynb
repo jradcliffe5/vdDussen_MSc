{
 "cells": [
  {
   "cell_type": "code",
   "execution_count": null,
   "id": "9a43bdd8-37a5-4d18-b86b-8ee09d3b0bef",
   "metadata": {},
   "outputs": [],
   "source": []
  },
  {
   "cell_type": "markdown",
   "id": "bb7bf750-93af-40f3-a22d-90d2828458e3",
   "metadata": {},
   "source": [
    "# Luminosity Calcs"
   ]
  },
  {
   "cell_type": "code",
   "execution_count": 1,
   "id": "523a2362-4f2e-455d-ae85-25144d1413c5",
   "metadata": {},
   "outputs": [],
   "source": [
    "import math"
   ]
  },
  {
   "cell_type": "code",
   "execution_count": 2,
   "id": "1806092e-95b8-4d64-a11b-e5875d7808e1",
   "metadata": {
    "editable": true,
    "slideshow": {
     "slide_type": ""
    },
    "tags": []
   },
   "outputs": [],
   "source": [
    "def lum(a, z, d,s):\n",
    "    numer= (4*math.pi*d**2)\n",
    "    denom=(1+z)**(1+a)\n",
    "    l=(numer/denom)*s\n",
    "    return l"
   ]
  },
  {
   "cell_type": "markdown",
   "id": "32b725f4-bd04-4fab-b3f4-11d7bfcf3f72",
   "metadata": {
    "editable": true,
    "slideshow": {
     "slide_type": ""
    },
    "tags": []
   },
   "source": [
    "## North source"
   ]
  },
  {
   "cell_type": "markdown",
   "id": "f9e303a9-0eb3-455f-9d3c-f5128004fc32",
   "metadata": {},
   "source": [
    "### VLBI"
   ]
  },
  {
   "cell_type": "code",
   "execution_count": 3,
   "id": "d165abda-b98b-4baa-8ba5-fc1e467536d1",
   "metadata": {
    "editable": true,
    "slideshow": {
     "slide_type": ""
    },
    "tags": []
   },
   "outputs": [
    {
     "data": {
      "text/plain": [
       "1.7757084439850154e+24"
      ]
     },
     "execution_count": 3,
     "metadata": {},
     "output_type": "execute_result"
    }
   ],
   "source": [
    "vlbi_ns= lum(-0.7, 1.6095,3.75039424588e+26 ,(133.96e-6)*1e-26) #d is in m, s is in Jy\n",
    "vlbi_ns"
   ]
  },
  {
   "cell_type": "markdown",
   "id": "98bb493e-6f78-439f-a1e9-9396a9f95a1f",
   "metadata": {
    "editable": true,
    "slideshow": {
     "slide_type": ""
    },
    "tags": []
   },
   "source": [
    "### eMERLIN "
   ]
  },
  {
   "cell_type": "code",
   "execution_count": 4,
   "id": "35bedf82-1a87-4cb7-826f-2b8a448ec804",
   "metadata": {
    "editable": true,
    "slideshow": {
     "slide_type": ""
    },
    "tags": []
   },
   "outputs": [
    {
     "data": {
      "text/plain": [
       "1.0432088275725642e+24"
      ]
     },
     "execution_count": 4,
     "metadata": {},
     "output_type": "execute_result"
    }
   ],
   "source": [
    "eme_ns= lum(-0.7, 1.6095, 3.75039424588e+26, (78.7e-6)*1e-26)\n",
    "eme_ns"
   ]
  },
  {
   "cell_type": "markdown",
   "id": "4472b5af-3c2a-4018-bc48-2b2c3172d42b",
   "metadata": {},
   "source": [
    "## South Source"
   ]
  },
  {
   "cell_type": "markdown",
   "id": "93b62e54-2bc1-4d9e-b668-078847759643",
   "metadata": {},
   "source": [
    "### VLBI"
   ]
  },
  {
   "cell_type": "code",
   "execution_count": 5,
   "id": "e02d9f23-dda8-46ca-8586-dbb7fc65c740",
   "metadata": {
    "editable": true,
    "slideshow": {
     "slide_type": ""
    },
    "tags": []
   },
   "outputs": [
    {
     "data": {
      "text/plain": [
       "5.2756939437596e+23"
      ]
     },
     "execution_count": 5,
     "metadata": {},
     "output_type": "execute_result"
    }
   ],
   "source": [
    "vlbi_ss= lum(-0.7, 1.6095, 3.75039424588e+26, (39.8e-6)*1e-26)\n",
    "vlbi_ss"
   ]
  },
  {
   "cell_type": "markdown",
   "id": "c975caf3-2420-4d2f-959a-f56f59f74a44",
   "metadata": {},
   "source": [
    "### eMERLIN"
   ]
  },
  {
   "cell_type": "raw",
   "id": "264f0ce3-b5af-45a3-b602-4c7132917a93",
   "metadata": {
    "editable": true,
    "slideshow": {
     "slide_type": ""
    },
    "tags": []
   },
   "source": []
  },
  {
   "cell_type": "code",
   "execution_count": null,
   "id": "7ef502ee-faee-4928-860c-2338f3b93770",
   "metadata": {
    "editable": true,
    "slideshow": {
     "slide_type": ""
    },
    "tags": []
   },
   "outputs": [],
   "source": []
  },
  {
   "cell_type": "code",
   "execution_count": null,
   "id": "767ece59-29fb-4226-af49-788fe1d360e3",
   "metadata": {
    "editable": true,
    "slideshow": {
     "slide_type": ""
    },
    "tags": []
   },
   "outputs": [],
   "source": []
  },
  {
   "cell_type": "code",
   "execution_count": 6,
   "id": "6ce2e61b-42a1-4b07-84b2-cc77c38cf84c",
   "metadata": {
    "editable": true,
    "slideshow": {
     "slide_type": ""
    },
    "tags": []
   },
   "outputs": [
    {
     "data": {
      "text/plain": [
       "1.1055097359536447e+24"
      ]
     },
     "execution_count": 6,
     "metadata": {},
     "output_type": "execute_result"
    }
   ],
   "source": [
    "eme_ss=lum(-0.7, 1.6095,3.75039424588e+26, (83.4e-6)*1e-26)\n",
    "eme_ss"
   ]
  },
  {
   "cell_type": "markdown",
   "id": "f7be37b1-245b-45a6-b2aa-bf9116ee6a66",
   "metadata": {},
   "source": [
    "# Calculating Brightness Temperature"
   ]
  },
  {
   "cell_type": "markdown",
   "id": "071837aa-8183-4287-af44-8ca707630d4e",
   "metadata": {},
   "source": [
    "#### VLBI North source:\n",
    "'majoraxis': {'unit': 'arcsec', 'value': 0.031494954324301334},\n",
    "    'majoraxiserror': {'unit': 'arcsec', 'value': 0.004001695338153996},\n",
    "    'minoraxis': {'unit': 'arcsec', 'value': 0.021593122655380957},\n",
    "    'minoraxiserror': {'unit': 'arcsec', 'value': 0.002160420525811484},\n",
    "    'positionangle': {'unit': 'deg', 'value': 148.7062857903078},\n",
    "    'positionangleerror': {'unit': 'deg', 'value': 10.48828245787783},\n",
    "#### VLBI South Source\n",
    " 'majoraxis': {'unit': 'arcsec', 'value': 0.022765102584985365},\n",
    "    'majoraxiserror': {'unit': 'arcsec', 'value': 0.00935371004158976},\n",
    "    'minoraxis': {'unit': 'arcsec', 'value': 0.014805046666896},\n",
    "    'minoraxiserror': {'unit': 'arcsec', 'value': 0.004020575437133704},\n",
    "    'positionangle': {'unit': 'deg', 'value': 2.5811514308213477},\n",
    "    'positionangleerror': {'unit': 'deg', 'value': 24.79912844927534},\n",
    "\n",
    "#### eMERLIN North Source\n",
    "majoraxis': {'unit': 'arcsec', 'value': 0.16926687685585398},\n",
    "    'majoraxiserror': {'unit': 'arcsec', 'value': 0.003525227838520541},\n",
    "    'minoraxis': {'unit': 'arcsec', 'value': 0.1361503297182199},\n",
    "    'minoraxiserror': {'unit': 'arcsec', 'value': 0.002352869945674642},\n",
    "    'positionangle': {'unit': 'deg', 'value': 29.228063742945736},\n",
    "    'positionangleerror': {'unit': 'deg', 'value': 3.1905751900436563},\n",
    "\n",
    "#### eMERLIN South Source\n",
    "'majoraxis': {'unit': 'arcsec', 'value': 0.14474827199774926},\n",
    "    'majoraxiserror': {'unit': 'arcsec', 'value': 0.0024463282995510574},\n",
    "    'minoraxis': {'unit': 'arcsec', 'value': 0.1336015261629928},\n",
    "    'minoraxiserror': {'unit': 'arcsec', 'value': 0.0020935584702211096},\n",
    "    'positionangle': {'unit': 'deg', 'value': 65.04825018057785},\n",
    "    'positionangleerror': {'unit': 'deg', 'value': 7.914019270395116},\n"
   ]
  },
  {
   "cell_type": "code",
   "execution_count": 7,
   "id": "56205a30-40cc-4828-bf02-00384e4b64b6",
   "metadata": {},
   "outputs": [],
   "source": [
    "def bt(z, sv, v, t_maj, t_min):\n",
    "    T= 1.22e12*(1+z)*(sv)*(v)**(-2)*(t_maj*t_min)**(-1)\n",
    "    return T"
   ]
  },
  {
   "cell_type": "markdown",
   "id": "142dd160-d136-4794-89d8-f27363e368c0",
   "metadata": {},
   "source": [
    "## BT of North Source"
   ]
  },
  {
   "cell_type": "markdown",
   "id": "791dc5ae-c276-4873-8c1a-408edefd90f5",
   "metadata": {},
   "source": [
    "### VLBI"
   ]
  },
  {
   "cell_type": "code",
   "execution_count": 8,
   "id": "546f22df-d985-4d2f-9673-84c05710da95",
   "metadata": {},
   "outputs": [
    {
     "data": {
      "text/plain": [
       "2785675.1817996474"
      ]
     },
     "execution_count": 8,
     "metadata": {},
     "output_type": "execute_result"
    }
   ],
   "source": [
    "vbt_ns= bt(1.6095, 133.96e-6, 1.5, 0.031494954324301334e3, 0.002160420525811484e3)\n",
    "vbt_ns"
   ]
  },
  {
   "cell_type": "code",
   "execution_count": 9,
   "id": "04722f9f-80e5-4ee6-ad20-d08933d082a5",
   "metadata": {},
   "outputs": [
    {
     "data": {
      "text/plain": [
       "4831.908121327799"
      ]
     },
     "execution_count": 9,
     "metadata": {},
     "output_type": "execute_result"
    }
   ],
   "source": [
    "ebt_ns = bt(1.6095, 78.7e-6, 1.5, 0.16926687685585398e3, 0.1361503297182199e3)\n",
    "ebt_ns"
   ]
  },
  {
   "cell_type": "markdown",
   "id": "6fe9d786-32da-4087-8965-e270239ad62f",
   "metadata": {},
   "source": [
    "### BT of South Source:"
   ]
  },
  {
   "cell_type": "markdown",
   "id": "81def227-6955-4aa3-ac54-b99797237ec6",
   "metadata": {},
   "source": [
    "### VLBI\n"
   ]
  },
  {
   "cell_type": "code",
   "execution_count": 10,
   "id": "f15ba5d1-c535-4df2-a10d-a2323fcb62d5",
   "metadata": {},
   "outputs": [
    {
     "data": {
      "text/plain": [
       "167085.31950851978"
      ]
     },
     "execution_count": 10,
     "metadata": {},
     "output_type": "execute_result"
    }
   ],
   "source": [
    "vbt_ss= bt(1.6095, 39.8e-6, 1.5, 0.022765102584985365e3, 0.014805046666896e3)\n",
    "vbt_ss"
   ]
  },
  {
   "cell_type": "markdown",
   "id": "b020ff93-8e44-4fec-ae29-14e53c0c2b69",
   "metadata": {},
   "source": [
    "### eMERLIN"
   ]
  },
  {
   "cell_type": "code",
   "execution_count": 11,
   "id": "8801df19-ba09-42cc-9ee2-6c3c3c01b8fa",
   "metadata": {},
   "outputs": [
    {
     "data": {
      "text/plain": [
       "6102.051340778557"
      ]
     },
     "execution_count": 11,
     "metadata": {},
     "output_type": "execute_result"
    }
   ],
   "source": [
    "ebt_ss= bt(1.6095, 83.4e-6, 1.5, 0.14474827199774926e3, 0.1336015261629928e3)\n",
    "ebt_ss"
   ]
  },
  {
   "cell_type": "code",
   "execution_count": null,
   "id": "622c5133-7584-449d-860c-09df8c90bce3",
   "metadata": {},
   "outputs": [],
   "source": []
  }
 ],
 "metadata": {
  "kernelspec": {
   "display_name": "ASTRO-PY3 (Python 3.10)",
   "language": "python",
   "name": "astro-py3.10"
  },
  "language_info": {
   "codemirror_mode": {
    "name": "ipython",
    "version": 3
   },
   "file_extension": ".py",
   "mimetype": "text/x-python",
   "name": "python",
   "nbconvert_exporter": "python",
   "pygments_lexer": "ipython3",
   "version": "3.10.4"
  }
 },
 "nbformat": 4,
 "nbformat_minor": 5
}
