{
 "cells": [
  {
   "cell_type": "markdown",
   "id": "5bbd0e99-9f22-4106-b658-c6ffd1cc4b00",
   "metadata": {},
   "source": [
    "# Plots for binary mass and period"
   ]
  },
  {
   "cell_type": "markdown",
   "id": "bd576503-3c8d-41e5-a589-d84cef9a0926",
   "metadata": {},
   "source": [
    "## stellar mass value: stm= 3.47e10 solar masses\n",
    "### assuming equal mass: mass of one SMBH:  3.47e10/2\n",
    "### Assume circular orbit\n"
   ]
  },
  {
   "cell_type": "code",
   "execution_count": 1,
   "id": "02915b80-7d7c-44e6-9764-4fa49c24f81c",
   "metadata": {},
   "outputs": [],
   "source": [
    "import math\n",
    "import numpy as np\n",
    "import matplotlib.pyplot as plt"
   ]
  },
  {
   "cell_type": "code",
   "execution_count": 2,
   "id": "9f49784a-0ff7-4db9-ba14-ff193a8009d8",
   "metadata": {},
   "outputs": [],
   "source": [
    "from scipy import constants as c\n",
    "from astropy import constants as ac\n",
    "from astropy import units as u"
   ]
  },
  {
   "cell_type": "code",
   "execution_count": 9,
   "id": "abe4dc43-40ac-4a25-b8f4-4d8f95b9bd86",
   "metadata": {},
   "outputs": [
    {
     "name": "stdout",
     "output_type": "stream",
     "text": [
      "m(5/3) N(1/3) / (kg(2/3) s)\n"
     ]
    },
    {
     "ename": "UnitConversionError",
     "evalue": "'m(5/3) N(1/3) / (kg(2/3) s)' and 'km / s' (speed/velocity) are not convertible",
     "output_type": "error",
     "traceback": [
      "\u001b[0;31m---------------------------------------------------------------------------\u001b[0m",
      "\u001b[0;31mUnitConversionError\u001b[0m                       Traceback (most recent call last)",
      "Cell \u001b[0;32mIn[9], line 31\u001b[0m\n\u001b[1;32m     29\u001b[0m \u001b[38;5;28mprint\u001b[39m(delta_v_values\u001b[38;5;241m.\u001b[39munit)\n\u001b[1;32m     30\u001b[0m \u001b[38;5;66;03m# Convert delta_v_values to km/s\u001b[39;00m\n\u001b[0;32m---> 31\u001b[0m delta_v_values \u001b[38;5;241m=\u001b[39m \u001b[43mdelta_v_values\u001b[49m\u001b[38;5;241;43m.\u001b[39;49m\u001b[43mto\u001b[49m\u001b[43m(\u001b[49m\u001b[43mu\u001b[49m\u001b[38;5;241;43m.\u001b[39;49m\u001b[43mkm\u001b[49m\u001b[38;5;241;43m/\u001b[39;49m\u001b[43mu\u001b[49m\u001b[38;5;241;43m.\u001b[39;49m\u001b[43ms\u001b[49m\u001b[43m)\u001b[49m \n\u001b[1;32m     33\u001b[0m \u001b[38;5;66;03m# Create target_delta_v array\u001b[39;00m\n\u001b[1;32m     34\u001b[0m target_delta_v_array \u001b[38;5;241m=\u001b[39m np\u001b[38;5;241m.\u001b[39mlinspace(\u001b[38;5;241m800\u001b[39m, \u001b[38;5;241m1200\u001b[39m, \u001b[38;5;241m50\u001b[39m) \u001b[38;5;241m*\u001b[39m u\u001b[38;5;241m.\u001b[39mkm\u001b[38;5;241m/\u001b[39mu\u001b[38;5;241m.\u001b[39ms \n",
      "File \u001b[0;32m/usr/local/lib/python3.8/dist-packages/astropy/units/quantity.py:915\u001b[0m, in \u001b[0;36mQuantity.to\u001b[0;34m(self, unit, equivalencies, copy)\u001b[0m\n\u001b[1;32m    911\u001b[0m unit \u001b[38;5;241m=\u001b[39m Unit(unit)\n\u001b[1;32m    912\u001b[0m \u001b[38;5;28;01mif\u001b[39;00m copy:\n\u001b[1;32m    913\u001b[0m     \u001b[38;5;66;03m# Avoid using to_value to ensure that we make a copy. We also\u001b[39;00m\n\u001b[1;32m    914\u001b[0m     \u001b[38;5;66;03m# don't want to slow down this method (esp. the scalar case).\u001b[39;00m\n\u001b[0;32m--> 915\u001b[0m     value \u001b[38;5;241m=\u001b[39m \u001b[38;5;28;43mself\u001b[39;49m\u001b[38;5;241;43m.\u001b[39;49m\u001b[43m_to_value\u001b[49m\u001b[43m(\u001b[49m\u001b[43munit\u001b[49m\u001b[43m,\u001b[49m\u001b[43m \u001b[49m\u001b[43mequivalencies\u001b[49m\u001b[43m)\u001b[49m\n\u001b[1;32m    916\u001b[0m \u001b[38;5;28;01melse\u001b[39;00m:\n\u001b[1;32m    917\u001b[0m     \u001b[38;5;66;03m# to_value only copies if necessary\u001b[39;00m\n\u001b[1;32m    918\u001b[0m     value \u001b[38;5;241m=\u001b[39m \u001b[38;5;28mself\u001b[39m\u001b[38;5;241m.\u001b[39mto_value(unit, equivalencies)\n",
      "File \u001b[0;32m/usr/local/lib/python3.8/dist-packages/astropy/units/quantity.py:868\u001b[0m, in \u001b[0;36mQuantity._to_value\u001b[0;34m(self, unit, equivalencies)\u001b[0m\n\u001b[1;32m    865\u001b[0m     equivalencies \u001b[38;5;241m=\u001b[39m \u001b[38;5;28mself\u001b[39m\u001b[38;5;241m.\u001b[39m_equivalencies\n\u001b[1;32m    866\u001b[0m \u001b[38;5;28;01mif\u001b[39;00m \u001b[38;5;129;01mnot\u001b[39;00m \u001b[38;5;28mself\u001b[39m\u001b[38;5;241m.\u001b[39mdtype\u001b[38;5;241m.\u001b[39mnames \u001b[38;5;129;01mor\u001b[39;00m \u001b[38;5;28misinstance\u001b[39m(\u001b[38;5;28mself\u001b[39m\u001b[38;5;241m.\u001b[39munit, StructuredUnit):\n\u001b[1;32m    867\u001b[0m     \u001b[38;5;66;03m# Standard path, let unit to do work.\u001b[39;00m\n\u001b[0;32m--> 868\u001b[0m     \u001b[38;5;28;01mreturn\u001b[39;00m \u001b[38;5;28;43mself\u001b[39;49m\u001b[38;5;241;43m.\u001b[39;49m\u001b[43munit\u001b[49m\u001b[38;5;241;43m.\u001b[39;49m\u001b[43mto\u001b[49m\u001b[43m(\u001b[49m\n\u001b[1;32m    869\u001b[0m \u001b[43m        \u001b[49m\u001b[43munit\u001b[49m\u001b[43m,\u001b[49m\u001b[43m \u001b[49m\u001b[38;5;28;43mself\u001b[39;49m\u001b[38;5;241;43m.\u001b[39;49m\u001b[43mview\u001b[49m\u001b[43m(\u001b[49m\u001b[43mnp\u001b[49m\u001b[38;5;241;43m.\u001b[39;49m\u001b[43mndarray\u001b[49m\u001b[43m)\u001b[49m\u001b[43m,\u001b[49m\u001b[43m \u001b[49m\u001b[43mequivalencies\u001b[49m\u001b[38;5;241;43m=\u001b[39;49m\u001b[43mequivalencies\u001b[49m\n\u001b[1;32m    870\u001b[0m \u001b[43m    \u001b[49m\u001b[43m)\u001b[49m\n\u001b[1;32m    872\u001b[0m \u001b[38;5;28;01melse\u001b[39;00m:\n\u001b[1;32m    873\u001b[0m     \u001b[38;5;66;03m# The .to() method of a simple unit cannot convert a structured\u001b[39;00m\n\u001b[1;32m    874\u001b[0m     \u001b[38;5;66;03m# dtype, so we work around it, by recursing.\u001b[39;00m\n\u001b[1;32m    875\u001b[0m     \u001b[38;5;66;03m# TODO: deprecate this?\u001b[39;00m\n\u001b[1;32m    876\u001b[0m     \u001b[38;5;66;03m# Convert simple to Structured on initialization?\u001b[39;00m\n\u001b[1;32m    877\u001b[0m     result \u001b[38;5;241m=\u001b[39m np\u001b[38;5;241m.\u001b[39mempty_like(\u001b[38;5;28mself\u001b[39m\u001b[38;5;241m.\u001b[39mview(np\u001b[38;5;241m.\u001b[39mndarray))\n",
      "File \u001b[0;32m/usr/local/lib/python3.8/dist-packages/astropy/units/core.py:1165\u001b[0m, in \u001b[0;36mUnitBase.to\u001b[0;34m(self, other, value, equivalencies)\u001b[0m\n\u001b[1;32m   1163\u001b[0m     \u001b[38;5;28;01mreturn\u001b[39;00m UNITY\n\u001b[1;32m   1164\u001b[0m \u001b[38;5;28;01melse\u001b[39;00m:\n\u001b[0;32m-> 1165\u001b[0m     \u001b[38;5;28;01mreturn\u001b[39;00m \u001b[38;5;28;43mself\u001b[39;49m\u001b[38;5;241;43m.\u001b[39;49m\u001b[43m_get_converter\u001b[49m\u001b[43m(\u001b[49m\u001b[43mUnit\u001b[49m\u001b[43m(\u001b[49m\u001b[43mother\u001b[49m\u001b[43m)\u001b[49m\u001b[43m,\u001b[49m\u001b[43m \u001b[49m\u001b[43mequivalencies\u001b[49m\u001b[43m)\u001b[49m(value)\n",
      "File \u001b[0;32m/usr/local/lib/python3.8/dist-packages/astropy/units/core.py:1094\u001b[0m, in \u001b[0;36mUnitBase._get_converter\u001b[0;34m(self, other, equivalencies)\u001b[0m\n\u001b[1;32m   1091\u001b[0m             \u001b[38;5;28;01melse\u001b[39;00m:\n\u001b[1;32m   1092\u001b[0m                 \u001b[38;5;28;01mreturn\u001b[39;00m \u001b[38;5;28;01mlambda\u001b[39;00m v: b(converter(v))\n\u001b[0;32m-> 1094\u001b[0m \u001b[38;5;28;01mraise\u001b[39;00m exc\n",
      "File \u001b[0;32m/usr/local/lib/python3.8/dist-packages/astropy/units/core.py:1077\u001b[0m, in \u001b[0;36mUnitBase._get_converter\u001b[0;34m(self, other, equivalencies)\u001b[0m\n\u001b[1;32m   1075\u001b[0m \u001b[38;5;66;03m# if that doesn't work, maybe we can do it with equivalencies?\u001b[39;00m\n\u001b[1;32m   1076\u001b[0m \u001b[38;5;28;01mtry\u001b[39;00m:\n\u001b[0;32m-> 1077\u001b[0m     \u001b[38;5;28;01mreturn\u001b[39;00m \u001b[38;5;28;43mself\u001b[39;49m\u001b[38;5;241;43m.\u001b[39;49m\u001b[43m_apply_equivalencies\u001b[49m\u001b[43m(\u001b[49m\n\u001b[1;32m   1078\u001b[0m \u001b[43m        \u001b[49m\u001b[38;5;28;43mself\u001b[39;49m\u001b[43m,\u001b[49m\u001b[43m \u001b[49m\u001b[43mother\u001b[49m\u001b[43m,\u001b[49m\u001b[43m \u001b[49m\u001b[38;5;28;43mself\u001b[39;49m\u001b[38;5;241;43m.\u001b[39;49m\u001b[43m_normalize_equivalencies\u001b[49m\u001b[43m(\u001b[49m\u001b[43mequivalencies\u001b[49m\u001b[43m)\u001b[49m\n\u001b[1;32m   1079\u001b[0m \u001b[43m    \u001b[49m\u001b[43m)\u001b[49m\n\u001b[1;32m   1080\u001b[0m \u001b[38;5;28;01mexcept\u001b[39;00m UnitsError \u001b[38;5;28;01mas\u001b[39;00m exc:\n\u001b[1;32m   1081\u001b[0m     \u001b[38;5;66;03m# Last hope: maybe other knows how to do it?\u001b[39;00m\n\u001b[1;32m   1082\u001b[0m     \u001b[38;5;66;03m# We assume the equivalencies have the unit itself as first item.\u001b[39;00m\n\u001b[1;32m   1083\u001b[0m     \u001b[38;5;66;03m# TODO: maybe better for other to have a `_back_converter` method?\u001b[39;00m\n\u001b[1;32m   1084\u001b[0m     \u001b[38;5;28;01mif\u001b[39;00m \u001b[38;5;28mhasattr\u001b[39m(other, \u001b[38;5;124m\"\u001b[39m\u001b[38;5;124mequivalencies\u001b[39m\u001b[38;5;124m\"\u001b[39m):\n",
      "File \u001b[0;32m/usr/local/lib/python3.8/dist-packages/astropy/units/core.py:1054\u001b[0m, in \u001b[0;36mUnitBase._apply_equivalencies\u001b[0;34m(self, unit, other, equivalencies)\u001b[0m\n\u001b[1;32m   1051\u001b[0m unit_str \u001b[38;5;241m=\u001b[39m get_err_str(unit)\n\u001b[1;32m   1052\u001b[0m other_str \u001b[38;5;241m=\u001b[39m get_err_str(other)\n\u001b[0;32m-> 1054\u001b[0m \u001b[38;5;28;01mraise\u001b[39;00m UnitConversionError(\u001b[38;5;124mf\u001b[39m\u001b[38;5;124m\"\u001b[39m\u001b[38;5;132;01m{\u001b[39;00munit_str\u001b[38;5;132;01m}\u001b[39;00m\u001b[38;5;124m and \u001b[39m\u001b[38;5;132;01m{\u001b[39;00mother_str\u001b[38;5;132;01m}\u001b[39;00m\u001b[38;5;124m are not convertible\u001b[39m\u001b[38;5;124m\"\u001b[39m)\n",
      "\u001b[0;31mUnitConversionError\u001b[0m: 'm(5/3) N(1/3) / (kg(2/3) s)' and 'km / s' (speed/velocity) are not convertible"
     ]
    }
   ],
   "source": [
    "import numpy as np\n",
    "import astropy.units as u\n",
    "import math\n",
    "\n",
    "# Constants\n",
    "v2 = 1187.4653317495377 * u.km/u.s\n",
    "v1 = 144.67618434566512 * u.km/u.s\n",
    "G = 6.67e-11   *u.N*u.m**2/u.kg**2# Gravitational constant  # Gravitational constant\n",
    "sin3 = 2/3  # Estimate\n",
    "\n",
    "# Define the smbh2 model with units\n",
    "def smbh2_model(p, stm):\n",
    "    numerator = stm * 2 * math.pi * G * sin3\n",
    "    denominator = p\n",
    "    cube_root = (numerator / denominator) ** (1/3) \n",
    "    delta_v = cube_root   # Include units within the function\n",
    "    return delta_v\n",
    "\n",
    "# Create parameter ranges\n",
    "p_values = np.logspace(1, 4, 50) * u.year\n",
    "stm_values = np.logspace(10, 13, 50) * u.M_sun\n",
    "\n",
    "# Create a meshgrid\n",
    "P, STM = np.meshgrid(p_values, stm_values)\n",
    "\n",
    "\n",
    "# Calculate delta_v for all combinations\n",
    "delta_v_values = smbh2_model(P.to(u.s).value, STM.to(u.kg).value) *u.m/u.s\n",
    "print(delta_v_values.unit)\n",
    "# Convert delta_v_values to km/s\n",
    "delta_v_values = delta_v_values.to(u.km/u.s) \n",
    "\n",
    "# Create target_delta_v array\n",
    "target_delta_v_array = np.linspace(800, 1200, 50) * u.km/u.s \n",
    "target_delta_v_array = np.tile(target_delta_v_array, (50, 1))  # Create 50x50 array\n",
    "\n",
    "# Find indices where delta_v_values match target_delta_v_array\n",
    "indices = np.where(np.isclose(delta_v_values[:, :, np.newaxis], target_delta_v_array, atol=1e-3))\n",
    "\n",
    "# Extract corresponding p and stm values\n",
    "p_within_tolerance = P[indices[0], indices[1]]\n",
    "stm_within_tolerance = STM[indices[0], indices[1]]\n",
    "delta_v_within_tolerance = delta_v_values[indices[0], indices[1]]\n",
    "\n",
    "# Print or store the results\n",
    "print(\"Found {} values within the tolerance:\".format(len(p_within_tolerance)))\n",
    "for i in range(len(p_within_tolerance)):\n",
    "    print(\"p:\", p_within_tolerance[i], \"stm:\", stm_within_tolerance[i], \"delta_v:\", delta_v_within_tolerance[i])\n",
    "\n",
    "# Convert values to lists for plotting (if needed)\n",
    "p_list = p_within_tolerance.tolist()\n",
    "stm_list = stm_within_tolerance.tolist()\n",
    "delta_v_list = delta_v_within_tolerance.tolist()"
   ]
  },
  {
   "cell_type": "markdown",
   "id": "3d38385d-a158-430a-b7a9-d52d2fe39921",
   "metadata": {
    "scrolled": true
   },
   "source": [
    "# the model to calculate delta_v:\n",
    "\n",
    "v2 = 1187.4653317495377 * u.km/u.s\n",
    "v1 = 144.67618434566512 * u.km/u.s\n",
    "#d_v=abs(v1-v2)\n",
    "\n",
    "G = 6.67e-11 * u.km**3 / (u.s**2 * u.kg)\n",
    "\n",
    "\n",
    "\n",
    " #km^3 (solar mass)^-1 years^-2\n",
    "#from log10(log stellar mass/Msun) = 10.54, stellar mass (stm) aka m1+m2= 3.47 × 10^10  solar masses\n",
    "\n",
    "\n",
    "\n",
    "\n",
    "def smbh2_model(p, stm):\n",
    "    \n",
    "    sin3=2/3 #estimate\n",
    "    numerator = (stm) * 2 * math.pi * G * sin3\n",
    "    denominator = p\n",
    "    cube_root = (numerator / denominator) ** (1/3)\n",
    "    delta_v = cube_root *(u.km**3 / u.kg)**(1/3)  # Include units within the function\n",
    "\n",
    "    return delta_v\n",
    "\n",
    "# creating parameter ranges\n",
    "p_values = np.logspace(1, 4, 50)*u.year  # 50 values between 10^3 and 10^8\n",
    "stm_values = np.logspace(10, 13, 50)*u.M_sun  # 50 values between 3.47e8 and 3.47e10\n",
    "\n",
    "# Create a meshgrid to efficiently calculate delta_v for all combinations\n",
    "P, STM = np.meshgrid(p_values, stm_values)\n",
    "\n",
    "# Calculate delta_v for all combinations\n",
    "delta_v_values = smbh2_model(P.to(u.s).value, STM.to(u.kg).value) \n",
    "\n",
    "# Convert delta_v_values to km/s\n",
    "delta_v_values = delta_v_values.to(u.km/u.s) \n",
    "# Correct the unit assignment\n",
    "delta_v_values = delta_v_values * (u.km**3 / u.kg)**(1/3) \n",
    "\n",
    "# Convert delta_v_values to km/s\n",
    "delta_v_values = delta_v_values*u.km/u.s \n",
    "#delta_v_values.to(u.km/u.s)\n",
    "# Convert delta_v_values to km/s\n",
    "\n",
    "\n",
    "print(\"Minimum delta_v:\", delta_v_values.min())\n",
    "print(\"Maximum delta_v:\", delta_v_values.max())\n",
    "\n",
    "# Find values in the vicinity of 353e9 (+-1e2)\n",
    "target_delta_v_array = np.linspace(800, 1200, 50) * u.km/u.s \n",
    "target_delta_v_array = np.tile(target_delta_v_array, (50, 1))  # Create 50x50 array\n",
    "\n",
    "# Use numpy's where function to find indices of values within the tolerance\n",
    "# Find indices where delta_v_values match target_delta_v_array\n",
    "indices = np.where(np.isclose(delta_v_values[:, :, np.newaxis], target_delta_v_array, atol=1e-3))\n",
    "\n",
    "# Extract corresponding p and stm values\n",
    "p_within_tolerance = P[indices[0], indices[1]]\n",
    "stm_within_tolerance = STM[indices[0], indices[1]]\n",
    "delta_v_within_tolerance = delta_v_values[indices[0], indices[1]]\n",
    "\n",
    "# Print or store the results\n",
    "print(\"Found {} values within the tolerance:\".format(len(p_within_tolerance)))\n",
    "\n",
    "for i in range(len(p_within_tolerance)):\n",
    "    print(\"p:\", p_within_tolerance[i], \"stm:\", stm_within_tolerance[i], \"delta_v:\", delta_v_within_tolerance[i])\n",
    "    \n",
    "#convert values to lists for plotting\n",
    "p_list = p_within_tolerance.tolist()\n",
    "stm_list = stm_within_tolerance.tolist()\n",
    "delta_v_list = delta_v_within_tolerance.tolist()"
   ]
  },
  {
   "cell_type": "code",
   "execution_count": 4,
   "id": "a3535fe2-74a5-430f-b1e9-b6fc3a2e4c94",
   "metadata": {},
   "outputs": [
    {
     "ename": "NameError",
     "evalue": "name 'target_delta_v' is not defined",
     "output_type": "error",
     "traceback": [
      "\u001b[0;31m---------------------------------------------------------------------------\u001b[0m",
      "\u001b[0;31mNameError\u001b[0m                                 Traceback (most recent call last)",
      "Cell \u001b[0;32mIn[4], line 1\u001b[0m\n\u001b[0;32m----> 1\u001b[0m \u001b[43mtarget_delta_v\u001b[49m\n",
      "\u001b[0;31mNameError\u001b[0m: name 'target_delta_v' is not defined"
     ]
    }
   ],
   "source": [
    "target_delta_v"
   ]
  },
  {
   "cell_type": "code",
   "execution_count": null,
   "id": "238baf3a-4a33-4831-ab3c-6f24766218f6",
   "metadata": {},
   "outputs": [],
   "source": [
    "# Plotting\n",
    "plt.figure(figsize=(10, 8))  # Adjust figure size as needed\n",
    "\n",
    "# Create the scatter plot, color-coded by delta_v_values\n",
    "plt.scatter(P, STM, c=delta_v_values, cmap='viridis', norm=plt.Normalize(vmin=delta_v_values.min(), vmax=delta_v_values.max()))  # Use a colormap\n",
    "\n",
    "# Find values in the vicinity of 353e9 (+-1e2) and highlight them\n",
    "target_delta_v = 353e9\n",
    "tolerance = 1e12\n",
    "indices = np.where(np.abs(delta_v_values - target_delta_v) <= tolerance)\n",
    "p_within_tolerance = P[indices]\n",
    "stm_within_tolerance = STM[indices]\n",
    "plt.scatter(p_within_tolerance, stm_within_tolerance, c='red', label=f'delta_v within {tolerance} of {target_delta_v}', s=50, marker='x')\n",
    "\n",
    "# Add a colorbar\n",
    "cbar = plt.colorbar(label='Delta v (km/year)')\n",
    "\n",
    "# Set axis scales to logarithmic to better visualize the wide range of values\n",
    "plt.xscale('log')\n",
    "plt.yscale('log')\n",
    "\n",
    "# Add labels and title\n",
    "plt.xlabel('Period (years)')\n",
    "plt.ylabel('Total Mass (Solar Masses)')\n",
    "plt.title('Delta v vs. Period and Total Mass')\n",
    "\n",
    "# Add a legend\n",
    "plt.legend()\n",
    "\n",
    "# Show the plot\n",
    "plt.grid(True)  # Add a grid for better readability\n",
    "plt.tight_layout() # Adjust layout to prevent labels from overlapping\n",
    "plt.show()\n",
    "\n"
   ]
  },
  {
   "cell_type": "code",
   "execution_count": null,
   "id": "807816de-9001-4fe7-9abd-4677757169eb",
   "metadata": {},
   "outputs": [],
   "source": []
  }
 ],
 "metadata": {
  "kernelspec": {
   "display_name": "ASTRO-PY3 (Python 3.8)",
   "language": "python",
   "name": "astro-py3.8"
  },
  "language_info": {
   "codemirror_mode": {
    "name": "ipython",
    "version": 3
   },
   "file_extension": ".py",
   "mimetype": "text/x-python",
   "name": "python",
   "nbconvert_exporter": "python",
   "pygments_lexer": "ipython3",
   "version": "3.8.2"
  }
 },
 "nbformat": 4,
 "nbformat_minor": 5
}
